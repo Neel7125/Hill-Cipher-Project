{
  "cells": [
    {
      "cell_type": "code",
      "execution_count": 31,
      "metadata": {
        "id": "mOJNsIPYX0BC"
      },
      "outputs": [],
      "source": [
        "# Neel Patel 202201494"
      ]
    },
    {
      "cell_type": "markdown",
      "metadata": {
        "id": "BBREii4cXqaE"
      },
      "source": [
        " ### <span style=\"color:red\">**Enter your name and person number here:**</span>\n",
        "\n",
        " # Taylor Smith 202312345"
      ]
    },
    {
      "cell_type": "markdown",
      "metadata": {
        "id": "wijLUckvXqaK"
      },
      "source": [
        "### Execute the cell below before proceeding.\n",
        "\n",
        "The code in this cell will download a couple files with Python scripts from the Internet. Make sure that you have a network connection before executing it.  "
      ]
    },
    {
      "cell_type": "code",
      "execution_count": 2,
      "metadata": {
        "id": "kuVqW2mXXqaL"
      },
      "outputs": [],
      "source": [
        "import requests\n",
        "with open(\"hill_cipher_extra_credit.py\", 'w') as foo:\n",
        "    foo.write(requests.get(\"https://git.io/JenzP\").text)\n",
        "with open(\"hill_cipher_extra_credit_samples.py\", 'w') as foo:\n",
        "    foo.write(requests.get(\"https://git.io/JenzX\").text)\n",
        "from hill_cipher_extra_credit import *"
      ]
    },
    {
      "cell_type": "markdown",
      "metadata": {
        "id": "-fkQ18_eXqaO"
      },
      "source": [
        "# Extra credit Hill cipher\n",
        "\n",
        "\n",
        "## Instructions\n",
        "\n",
        "* This is an assignment cum project exercise, you are required to submit it.\n",
        "* The correct solution will carry 5% of your garde.\n",
        "* There is no partial credit on this assignment. Incomplete solutions (e.g. incorrect decoding of the cipher, printing the decoded message without any computations  etc.) will receive no credit.\n",
        "* The whole assignment must be completed within this notebook. Computations done on paper or using some other program will not be graded.\n",
        "* Once you complete this assignment, send me the file through email. The name of this notebook file is `hill_cipher.ipynb`. You can execute the command `pwd` in a code cell of this notebook to check where this file is located on your computer.\n",
        "* The submission deadline is **June 25, 11:59 PM**."
      ]
    },
    {
      "cell_type": "markdown",
      "metadata": {
        "id": "hWTtzehIXqaP"
      },
      "source": [
        "**Note:** The functions `char2num()` and `num2char()` should be helpful with this exercise. `char2num()` converts capital letters into numbers:"
      ]
    },
    {
      "cell_type": "code",
      "execution_count": 3,
      "metadata": {
        "colab": {
          "base_uri": "https://localhost:8080/",
          "height": 37
        },
        "id": "Os5eYNlEXqaQ",
        "outputId": "13856d95-6b17-4da0-891b-b6d67e928906"
      },
      "outputs": [
        {
          "output_type": "execute_result",
          "data": {
            "text/plain": [
              "[1, 2, 3, 4, 5, 6]"
            ],
            "text/latex": "$\\displaystyle \\left[ 1, \\  2, \\  3, \\  4, \\  5, \\  6\\right]$"
          },
          "metadata": {},
          "execution_count": 3
        }
      ],
      "source": [
        "char2num(\"ABCDEF\")"
      ]
    },
    {
      "cell_type": "markdown",
      "metadata": {
        "id": "mOWM5GqHXqaS"
      },
      "source": [
        "Conversely, `num2char()` converts a list of numbers into corresponding characters. It also displays a black block for each number on the list that does not correspond to any character:"
      ]
    },
    {
      "cell_type": "code",
      "execution_count": 4,
      "metadata": {
        "colab": {
          "base_uri": "https://localhost:8080/",
          "height": 0
        },
        "id": "NhsQE0m4XqaT",
        "outputId": "6c8c80b1-6c34-4824-adaf-11d0fb1ba8c5"
      },
      "outputs": [
        {
          "output_type": "stream",
          "name": "stdout",
          "text": [
            "  20   8   9  19   0   9  19   0   1   0  20   5  19  20 100  -1\n",
            "   T   H   I   S   _   I   S   _   A   _   T   E   S   T   #   #\n",
            "\n"
          ]
        }
      ],
      "source": [
        "mylist = [20,8,9,19,0,9,19,0,1,0,20,5,19,20, 100, -1]\n",
        "num2char(mylist)"
      ]
    },
    {
      "cell_type": "markdown",
      "metadata": {
        "id": "CcceRO2MXqaU"
      },
      "source": [
        "The function `num2char_text_only()` is similar, but it prints only characters, without the corresponding numbers:"
      ]
    },
    {
      "cell_type": "code",
      "execution_count": 5,
      "metadata": {
        "colab": {
          "base_uri": "https://localhost:8080/",
          "height": 36
        },
        "id": "UBI6IRAlXqaU",
        "outputId": "6fe55270-ecfc-4e50-e19a-445e3883bae1"
      },
      "outputs": [
        {
          "output_type": "execute_result",
          "data": {
            "text/plain": [
              "'THIS_IS_A_TEST##'"
            ],
            "application/vnd.google.colaboratory.intrinsic+json": {
              "type": "string"
            }
          },
          "metadata": {},
          "execution_count": 5
        }
      ],
      "source": [
        "mylist = [20,8,9,19,0,9,19,0,1,0,20,5,19,20, 100, -1]\n",
        "num2char_text_only(mylist)"
      ]
    },
    {
      "cell_type": "markdown",
      "metadata": {
        "id": "DPvAGR2dXqaV"
      },
      "source": [
        "----"
      ]
    },
    {
      "cell_type": "markdown",
      "metadata": {
        "id": "YMbhPbigXqaV"
      },
      "source": [
        "### Extra Credit Exercise\n",
        "\n",
        "In the next cell enter your DA-IICT roll number (digits only, no spaces, dashes etc.) assigning it to the variable `pnum`, and execute the cell. For example, if your DA-IICT roll number is 202312345, then the next cell should be `pnum = 202312345`"
      ]
    },
    {
      "cell_type": "code",
      "execution_count": 1,
      "metadata": {
        "id": "upiwp9KXXqaW"
      },
      "outputs": [],
      "source": [
        "pnum = 202201494"
      ]
    },
    {
      "cell_type": "markdown",
      "metadata": {
        "id": "QP-CU94qXqaW"
      },
      "source": [
        "Execute the next cell to produce a message encrypted with the Hill cipher cipher:"
      ]
    },
    {
      "cell_type": "code",
      "execution_count": 6,
      "metadata": {
        "colab": {
          "base_uri": "https://localhost:8080/",
          "height": 57
        },
        "id": "qbzCUOkJXqaX",
        "outputId": "2cef3307-6bf7-45b2-9487-b488c6eac9a1"
      },
      "outputs": [
        {
          "output_type": "execute_result",
          "data": {
            "text/plain": [
              "[143, 130, 88, 115, 47, 35, 158, 179, 119, 91, 106, 70, 7, 1, 1, 187, 65, 50, \n",
              "148, 21, 21, 125, 126, 84, 92, 21, 18, 203, 49, 40, 224, 132, 93, 141, 43, 34,\n",
              " 52, 101, 65, 119, 55, 40, 77, 121, 79, 7, 1, 1, 191, 199, 133, 124, 17, 17]"
            ],
            "text/latex": "$\\displaystyle \\left[ 143, \\  130, \\  88, \\  115, \\  47, \\  35, \\  158, \\  179, \\  119, \\  91, \\  106, \\  70, \\  7, \\  1, \\  1, \\  187, \\  65, \\  50, \\  148, \\  21, \\  21, \\  125, \\  126, \\  84, \\  92, \\  21, \\  18, \\  203, \\  49, \\  40, \\  224, \\  132, \\  93, \\  141, \\  43, \\  34, \\  52, \\  101, \\  65, \\  119, \\  55, \\  40, \\  77, \\  121, \\  79, \\  7, \\  1, \\  1, \\  191, \\  199, \\  133, \\  124, \\  17, \\  17\\right]$"
          },
          "metadata": {},
          "execution_count": 6
        }
      ],
      "source": [
        "cipher = cipher_generator(pnum)\n",
        "cipher"
      ]
    },
    {
      "cell_type": "markdown",
      "metadata": {
        "id": "9ZvmoKTlXqaX"
      },
      "source": [
        "The encryption key is a 3$\\times$3 matrix, and the message starts with the word \"CONFIDENTIAL\". Decrypt the message."
      ]
    },
    {
      "cell_type": "code",
      "execution_count": 7,
      "metadata": {
        "colab": {
          "base_uri": "https://localhost:8080/",
          "height": 37
        },
        "id": "aciisaUAXqaY",
        "outputId": "2bcc8c4a-d4d2-4ecf-cb93-3e05227a0cb9"
      },
      "outputs": [
        {
          "output_type": "execute_result",
          "data": {
            "text/plain": [
              "[3, 15, 14, 6, 9, 4, 5, 14, 20, 9, 1, 12]"
            ],
            "text/latex": "$\\displaystyle \\left[ 3, \\  15, \\  14, \\  6, \\  9, \\  4, \\  5, \\  14, \\  20, \\  9, \\  1, \\  12\\right]$"
          },
          "metadata": {},
          "execution_count": 7
        }
      ],
      "source": [
        "partial_decryption = \"CONFIDENTIAL\"\n",
        "partial_num_d = char2num(partial_decryption)\n",
        "partial_num_d"
      ]
    },
    {
      "cell_type": "code",
      "execution_count": 8,
      "metadata": {
        "colab": {
          "base_uri": "https://localhost:8080/",
          "height": 78
        },
        "id": "_FZZn11qXqaY",
        "outputId": "86aa2d3a-2ca0-4205-998f-7e4a820c4c84"
      },
      "outputs": [
        {
          "output_type": "execute_result",
          "data": {
            "text/plain": [
              "⎛⎡3 ⎤  ⎡6⎤  ⎡5 ⎤  ⎡9 ⎤⎞\n",
              "⎜⎢  ⎥  ⎢ ⎥  ⎢  ⎥  ⎢  ⎥⎟\n",
              "⎜⎢15⎥, ⎢9⎥, ⎢14⎥, ⎢1 ⎥⎟\n",
              "⎜⎢  ⎥  ⎢ ⎥  ⎢  ⎥  ⎢  ⎥⎟\n",
              "⎝⎣14⎦  ⎣4⎦  ⎣20⎦  ⎣12⎦⎠"
            ],
            "text/latex": "$\\displaystyle \\left( \\left[\\begin{matrix}3\\\\15\\\\14\\end{matrix}\\right], \\  \\left[\\begin{matrix}6\\\\9\\\\4\\end{matrix}\\right], \\  \\left[\\begin{matrix}5\\\\14\\\\20\\end{matrix}\\right], \\  \\left[\\begin{matrix}9\\\\1\\\\12\\end{matrix}\\right]\\right)$"
          },
          "metadata": {},
          "execution_count": 8
        }
      ],
      "source": [
        "v01 = Matrix(partial_num_d[:3])\n",
        "v02 = Matrix(partial_num_d[3:6])\n",
        "v03 = Matrix(partial_num_d[6:9])\n",
        "v04 = Matrix(partial_num_d[9:12])\n",
        "v01, v02, v03, v04"
      ]
    },
    {
      "cell_type": "code",
      "execution_count": 17,
      "metadata": {
        "id": "yEfk9XRBXqaZ",
        "colab": {
          "base_uri": "https://localhost:8080/",
          "height": 0
        },
        "outputId": "d36ebb4f-1f28-403b-804b-55281e34e9e6"
      },
      "outputs": [
        {
          "output_type": "stream",
          "name": "stdout",
          "text": [
            "[143, 115, 158]\n",
            "[130, 47, 179]\n",
            "[88, 35, 119]\n",
            "[[-0.38487973 -4.67067583  7.53665521]\n",
            " [ 0.16151203  1.78293242 -2.89633448]\n",
            " [ 0.2371134   2.92955326 -4.71305842]]\n"
          ]
        }
      ],
      "source": [
        "import numpy as np\n",
        "\n",
        "\n",
        "CM = np.array([[143, 130, 88], #CM = Cipher Matrix\n",
        "              [115, 47, 35],\n",
        "              [158, 179, 119]])\n",
        "\n",
        "def transpose_matrix(A):\n",
        "    return [[CM[j][i] for j in range(len(CM))] for i in range(len(CM[0]))]\n",
        "\n",
        "transposed_matrix = transpose_matrix(CM)\n",
        "\n",
        "for row in transposed_matrix:\n",
        "    print(row)\n",
        "\n",
        "\n",
        "CMT = np.linalg.inv(transposed_matrix) #CMT = Cipher Matrix after Transpose\n",
        "\n",
        "print(CMT)"
      ]
    },
    {
      "cell_type": "code",
      "source": [
        "Conf = ([[3, 6, 5],\n",
        "      [15, 9, 14],\n",
        "      [14, 4, 20]])\n",
        "\n",
        "DK = [[0, 0, 0], #DK = Decryption key\n",
        "     [0, 0, 0],\n",
        "     [0, 0, 0]]\n",
        "\n",
        "for i in range(len(CM)):\n",
        "    for j in range(len(CMT[0])):\n",
        "        for k in range(len(B)):\n",
        "            DK[i][j] += Conf[i][k] * CMT[k][j]\n",
        "\n",
        "for row in DK:\n",
        "    print(row)"
      ],
      "metadata": {
        "colab": {
          "base_uri": "https://localhost:8080/",
          "height": 0
        },
        "id": "A5gfCbV58mv7",
        "outputId": "707ca97c-6d9b-4a69-9821-8174eec8c4d2"
      },
      "execution_count": 18,
      "outputs": [
        {
          "output_type": "stream",
          "name": "stdout",
          "text": [
            "[0.9999999999998865, 11.33333333333194, -18.333333333331087]\n",
            "[-0.9999999999998699, -12.999999999998408, 20.999999999997442]\n",
            "[-1.7763568394002505e-15, 0.3333333333333073, -0.33333333333328596]\n"
          ]
        }
      ]
    },
    {
      "cell_type": "code",
      "source": [
        "FDK = [[elem % 27 for elem in row] for row in DK] #FDK = Final Decryption Key\n",
        "\n",
        "print(FDK)"
      ],
      "metadata": {
        "colab": {
          "base_uri": "https://localhost:8080/",
          "height": 0
        },
        "id": "s8OxRqYF8m9i",
        "outputId": "8761192f-c9b5-452d-a519-687f962c3eff"
      },
      "execution_count": 20,
      "outputs": [
        {
          "output_type": "stream",
          "name": "stdout",
          "text": [
            "[[0.9999999999998865, 11.33333333333194, 8.666666666668913], [26.00000000000013, 14.000000000001592, 20.999999999997442], [27.0, 0.3333333333333073, 26.666666666666714]]\n"
          ]
        }
      ]
    },
    {
      "cell_type": "code",
      "source": [
        "FDK = [[0.9999999999998865, 11.33333333333194, 8.666666666668913],\n",
        "      [26.00000000000013, 14.000000000001592, 20.999999999997442],\n",
        "      [27.0, 0.3333333333333073, 26.666666666666714]]\n",
        "\n",
        "vectors = [\n",
        "    np.array([[143], [130], [88]]),\n",
        "    np.array([[115], [47], [35]]),\n",
        "    np.array([[158], [179], [119]]),\n",
        "    np.array([[91], [106], [70]]),\n",
        "    np.array([[7], [1], [1]]),\n",
        "    np.array([[187], [65], [50]]),\n",
        "    np.array([[148], [21], [21]]),\n",
        "    np.array([[125], [126], [84]]),\n",
        "    np.array([[92], [21], [18]]),\n",
        "    np.array([[203], [49], [40]]),\n",
        "    np.array([[224], [132], [93]]),\n",
        "    np.array([[141], [43], [34]]),\n",
        "    np.array([[52], [101], [65]]),\n",
        "    np.array([[119], [55], [40]]),\n",
        "    np.array([[77], [121], [79]]),\n",
        "    np.array([[7], [1], [1]]),\n",
        "    np.array([[191],[199],[133]]),\n",
        "    np.array([[124],[17],[17]])\n",
        "]\n",
        "\n",
        "result = []\n",
        "\n",
        "for i in vectors:\n",
        "    FM = np.dot(FDK, i) #FM = final matrix\n",
        "    result.append(FM)\n",
        "\n",
        "all_result = np.vstack(result)\n",
        "\n",
        "arr = np.array(all_result)\n",
        "output_matrix = arr.reshape(1, -1)\n",
        "\n",
        "\n",
        "print(output_matrix)"
      ],
      "metadata": {
        "colab": {
          "base_uri": "https://localhost:8080/",
          "height": 0
        },
        "id": "reZfKEnJ9ru4",
        "outputId": "0ab26bd7-5092-4f6e-80a5-2f3912b60fda"
      },
      "execution_count": 25,
      "outputs": [
        {
          "output_type": "stream",
          "name": "stdout",
          "text": [
            "[[ 2379.  7386.  6251.   951.  4383.  4054.  3218.  9113.  7499.  1899.\n",
            "   5320.  4359.    27.   217.   216.  1357.  6822.  6404.   568.  4583.\n",
            "   4563.  2281.  6778.  5657.   486.  3064.  2971.  1105.  6804.  6564.\n",
            "   2526.  9625.  8572.   923.  4982.  4728.  1760.  4131.  3171.  1089.\n",
            "   4704.  4298.  2133.  5355.  4226.    27.   217.   216.  3599. 10545.\n",
            "   8770.   464.  3819.  3807.]]\n"
          ]
        }
      ]
    },
    {
      "cell_type": "code",
      "source": [
        "Matrix = [2379,  7386,  6251,   951,  4383,  4054,  3218,  9113,  7499,  1899,\n",
        "   5320,  4359,    27,   217,   216,  1357,  6822,  6404,   568,  4583,\n",
        "   4563,  2281,  6778,  5657,   486,  3064,  2971,  1105,  6804,  6564,\n",
        "   2526,  9625,  8572,   923,  4982,  4728,  1760,  4131,  3171,  1089,\n",
        "   4704,  4298,  2133,  5355,  4226,    27,   217,   216,  3599, 10545,\n",
        "   8770,   464,  3819,  3807]"
      ],
      "metadata": {
        "id": "n2Mge5XqImwf"
      },
      "execution_count": 28,
      "outputs": []
    },
    {
      "cell_type": "code",
      "source": [
        "final_Sequence = [elem % 27 for elem in Matrix]\n",
        "\n",
        "print(final_Sequence)"
      ],
      "metadata": {
        "colab": {
          "base_uri": "https://localhost:8080/",
          "height": 0
        },
        "id": "tWZtco1YIPvK",
        "outputId": "79d82d54-9e70-4474-ede7-a2bfdadbe272"
      },
      "execution_count": 29,
      "outputs": [
        {
          "output_type": "stream",
          "name": "stdout",
          "text": [
            "[3, 15, 14, 6, 9, 4, 5, 14, 20, 9, 1, 12, 0, 1, 0, 7, 18, 5, 1, 20, 0, 13, 1, 14, 0, 13, 1, 25, 0, 3, 15, 13, 13, 5, 14, 3, 5, 0, 12, 9, 6, 5, 0, 9, 14, 0, 1, 0, 8, 15, 22, 5, 12, 0]\n"
          ]
        }
      ]
    },
    {
      "cell_type": "code",
      "source": [
        "num2char(final_Sequence)"
      ],
      "metadata": {
        "colab": {
          "base_uri": "https://localhost:8080/",
          "height": 0
        },
        "id": "JLgLHQipJZyd",
        "outputId": "a3dfd3de-5b3c-44b6-fd65-ee8970e58723"
      },
      "execution_count": 30,
      "outputs": [
        {
          "output_type": "stream",
          "name": "stdout",
          "text": [
            "   3  15  14   6   9   4   5  14  20   9   1  12   0   1   0   7  18   5   1  20\n",
            "   C   O   N   F   I   D   E   N   T   I   A   L   _   A   _   G   R   E   A   T\n",
            "\n",
            "   0  13   1  14   0  13   1  25   0   3  15  13  13   5  14   3   5   0  12   9\n",
            "   _   M   A   N   _   M   A   Y   _   C   O   M   M   E   N   C   E   _   L   I\n",
            "\n",
            "   6   5   0   9  14   0   1   0   8  15  22   5  12   0\n",
            "   F   E   _   I   N   _   A   _   H   O   V   E   L   _\n",
            "\n"
          ]
        }
      ]
    },
    {
      "cell_type": "markdown",
      "source": [
        "A GREAT MAN MAY COMMENCE LIFE IN A HOVEL"
      ],
      "metadata": {
        "id": "fKL8Br2lPvt0"
      }
    }
  ],
  "metadata": {
    "colab": {
      "provenance": []
    },
    "kernelspec": {
      "display_name": "Python 3 (ipykernel)",
      "language": "python",
      "name": "python3"
    },
    "language_info": {
      "codemirror_mode": {
        "name": "ipython",
        "version": 3
      },
      "file_extension": ".py",
      "mimetype": "text/x-python",
      "name": "python",
      "nbconvert_exporter": "python",
      "pygments_lexer": "ipython3",
      "version": "3.9.13"
    }
  },
  "nbformat": 4,
  "nbformat_minor": 0
}